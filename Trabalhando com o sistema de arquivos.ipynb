{
 "cells": [
  {
   "cell_type": "code",
   "execution_count": 19,
   "metadata": {},
   "outputs": [
    {
     "name": "stdout",
     "output_type": "stream",
     "text": [
      "Atualizando arquivo: 3DP_Data Transformation.ipynb\n",
      "Atualizando arquivo: 3DP_Feature Engineering_Fase1.ipynb\n",
      "Atualizando arquivo: 3DP_Feature Selection.ipynb\n",
      "Atualizando arquivo: 3DP_Missing Values Handling.ipynb\n",
      "Atualizando arquivo: 3DP_Outliers Handling.ipynb\n",
      "Atualizando arquivo: Classes and Methods.ipynb\n",
      "Atualizando arquivo: Data Analysis with Pandas.ipynb\n",
      "Atualizando arquivo: Fake Data.ipynb\n",
      "Atualizando arquivo: GettingStarted.ipynb\n",
      "Atualizando arquivo: Numpy.ipynb\n",
      "Atualizando arquivo: Pipelines.ipynb\n",
      "Atualizando arquivo: Python Dictionaries.ipynb\n",
      "Atualizando arquivo: Python Lists.ipynb\n",
      "Atualizando arquivo: Python Series.ipynb\n",
      "Atualizando arquivo: Python Sets.ipynb\n",
      "Atualizando arquivo: Python Tuples.ipynb\n",
      "Atualizando arquivo: Working With Dates and Times.ipynb\n"
     ]
    }
   ],
   "source": [
    "import os\n",
    "\n",
    "\n",
    "diretorio = \"D:\\\\caminho\\\\para\\\\os\\\\Notebooks\"\n",
    "\n",
    "\n",
    "for nomeArquivo in os.listdir(diretorio):\n",
    "    \n",
    "    if nomeArquivo.endswith(\".ipynb\"): \n",
    "        \n",
    "        print (f\"Atualizando arquivo: {nomeArquivo}\")\n",
    "        \n",
    "        caminhoArquivoEntrada = os.path.join(diretorio, nomeArquivo)\n",
    "        caminhoArquivoSaida = os.path.join(diretorio, nomeArquivo + \".temporario\")\n",
    "        \n",
    "        arquivoDeEntrada = open(caminhoArquivoEntrada, \"rt\", encoding=\"utf8\")\n",
    "        arquivoDeSaida = open(caminhoArquivoSaida, \"wt\", encoding=\"utf8\")\n",
    "\n",
    "        for linha in arquivoDeEntrada:\n",
    "            arquivoDeSaida.write(linha.replace('https://github.com/MathMachado/Python_RFB', 'https://github.com/MathMachado/DSWP'))\n",
    "            \n",
    "        arquivoDeEntrada.close()\n",
    "        arquivoDeSaida.close()\n",
    "        \n",
    "        os.remove (caminhoArquivoEntrada)\n",
    "        \n",
    "        os.rename (caminhoArquivoSaida,caminhoArquivoEntrada)"
   ]
  }
 ],
 "metadata": {
  "kernelspec": {
   "display_name": "Python 3",
   "language": "python",
   "name": "python3"
  },
  "language_info": {
   "codemirror_mode": {
    "name": "ipython",
    "version": 3
   },
   "file_extension": ".py",
   "mimetype": "text/x-python",
   "name": "python",
   "nbconvert_exporter": "python",
   "pygments_lexer": "ipython3",
   "version": "3.7.4"
  }
 },
 "nbformat": 4,
 "nbformat_minor": 2
}
